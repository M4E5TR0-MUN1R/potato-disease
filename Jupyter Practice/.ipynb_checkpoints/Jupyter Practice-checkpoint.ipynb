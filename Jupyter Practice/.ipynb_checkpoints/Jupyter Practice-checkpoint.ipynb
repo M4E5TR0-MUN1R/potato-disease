{
 "cells": [
  {
   "cell_type": "markdown",
   "id": "a934a7ec",
   "metadata": {},
   "source": [
    "#                                This is a Jupyter Notebook Tutorial"
   ]
  },
  {
   "cell_type": "markdown",
   "id": "1193a6f0",
   "metadata": {},
   "source": [
    "<img src='https://upload.wikimedia.org/wikipedia/commons/thumb/3/38/Jupyter_logo.svg/1200px-Jupyter_logo.svg.png'  width=\"200\" \n",
    "     height=\"250\" />"
   ]
  },
  {
   "cell_type": "markdown",
   "id": "b38d7ea0",
   "metadata": {},
   "source": [
    "## User Input"
   ]
  },
  {
   "cell_type": "code",
   "execution_count": 1,
   "id": "eb8a7895",
   "metadata": {},
   "outputs": [
    {
     "name": "stdout",
     "output_type": "stream",
     "text": [
      "What is Your name?\n",
      "Khamis\n",
      "Hello There Khamis\n"
     ]
    }
   ],
   "source": [
    "print('What is Your name?')\n",
    "name = input()\n",
    "message = \"Hello There {}\".format(name)\n",
    "print(message)"
   ]
  },
  {
   "cell_type": "markdown",
   "id": "48e55f5c",
   "metadata": {},
   "source": [
    "## Lists (Arrays)"
   ]
  },
  {
   "cell_type": "code",
   "execution_count": 3,
   "id": "0db8e638",
   "metadata": {},
   "outputs": [
    {
     "name": "stdout",
     "output_type": "stream",
     "text": [
      "Khamis\n",
      "Bugu\n"
     ]
    }
   ],
   "source": [
    "students = ['Khamis','Mwalwati','Muniru','Juma','Tsanuo','Bugu']\n",
    "print(students[0])\n",
    "print(students[5])"
   ]
  },
  {
   "cell_type": "code",
   "execution_count": null,
   "id": "564f0a29",
   "metadata": {},
   "outputs": [],
   "source": []
  }
 ],
 "metadata": {
  "kernelspec": {
   "display_name": "Python 3 (ipykernel)",
   "language": "python",
   "name": "python3"
  },
  "language_info": {
   "codemirror_mode": {
    "name": "ipython",
    "version": 3
   },
   "file_extension": ".py",
   "mimetype": "text/x-python",
   "name": "python",
   "nbconvert_exporter": "python",
   "pygments_lexer": "ipython3",
   "version": "3.9.13"
  }
 },
 "nbformat": 4,
 "nbformat_minor": 5
}
