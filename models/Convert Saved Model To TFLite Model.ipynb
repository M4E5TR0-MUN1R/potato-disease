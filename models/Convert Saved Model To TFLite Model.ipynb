{
 "cells": [
  {
   "cell_type": "markdown",
   "id": "cf774e53",
   "metadata": {},
   "source": [
    "## Convert Saved Model To TFLite Model"
   ]
  },
  {
   "cell_type": "code",
   "execution_count": 7,
   "id": "c7b9912c",
   "metadata": {},
   "outputs": [
    {
     "name": "stdout",
     "output_type": "stream",
     "text": [
      "INFO:tensorflow:Assets written to: C:\\Users\\USER-PC\\AppData\\Local\\Temp\\tmpv4n7zgcd\\assets\n"
     ]
    },
    {
     "data": {
      "text/plain": [
       "741452"
      ]
     },
     "execution_count": 7,
     "metadata": {},
     "output_type": "execute_result"
    }
   ],
   "source": [
    "import tensorflow as tf\n",
    "\n",
    "model = tf.keras.models.load_model(\"G:/pyproj/potato-disease/models/model.h5\")\n",
    "\n",
    "converter = tf.lite.TFLiteConverter.from_keras_model(model)\n",
    "\n",
    "tflite_model = converter.convert()\n",
    "\n",
    "open(\"G:/pyproj/potato-disease/models/model.tflite\", \"wb\").write(tflite_model)"
   ]
  }
 ],
 "metadata": {
  "kernelspec": {
   "display_name": "Python 3 (ipykernel)",
   "language": "python",
   "name": "python3"
  },
  "language_info": {
   "codemirror_mode": {
    "name": "ipython",
    "version": 3
   },
   "file_extension": ".py",
   "mimetype": "text/x-python",
   "name": "python",
   "nbconvert_exporter": "python",
   "pygments_lexer": "ipython3",
   "version": "3.9.15"
  }
 },
 "nbformat": 4,
 "nbformat_minor": 5
}
